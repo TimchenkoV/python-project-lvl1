{
  "nbformat": 4,
  "nbformat_minor": 0,
  "metadata": {
    "colab": {
      "name": "Skillbox Chat Bot Day 1",
      "provenance": [],
      "collapsed_sections": [],
      "include_colab_link": true
    },
    "kernelspec": {
      "name": "python3",
      "display_name": "Python 3"
    },
    "language_info": {
      "name": "python"
    }
  },
  "cells": [
    {
      "cell_type": "markdown",
      "metadata": {
        "id": "view-in-github",
        "colab_type": "text"
      },
      "source": [
        "<a href=\"https://colab.research.google.com/github/TimchenkoV/python-project-lvl1/blob/main/Skillbox_Chat_Bot_Day_1.ipynb\" target=\"_parent\"><img src=\"https://colab.research.google.com/assets/colab-badge.svg\" alt=\"Open In Colab\"/></a>"
      ]
    },
    {
      "cell_type": "code",
      "execution_count": null,
      "metadata": {
        "colab": {
          "base_uri": "https://localhost:8080/"
        },
        "id": "CaydE8AFGLs6",
        "outputId": "5ab2e741-d5b8-4e96-9fd5-6d80e6b95040"
      },
      "outputs": [
        {
          "output_type": "stream",
          "name": "stdout",
          "text": [
            "Всем приветы в этом чате\n"
          ]
        }
      ],
      "source": [
        "print(\"Всем приветы в этом чате\") # Shift+Enter"
      ]
    },
    {
      "cell_type": "markdown",
      "source": [
        "\n",
        "\n",
        "1.   Выводить текст на экран\n",
        "2.   Принимать данные на вход\n",
        "\n",
        "\n",
        "Чат Бот:\n",
        "*    Строчка текста на вход\n",
        "*    Строчка текста на выход"
      ],
      "metadata": {
        "id": "TR4xYJAMIWbg"
      }
    },
    {
      "cell_type": "code",
      "source": [
        "text = input()\n",
        "if text == \"Привет\":\n",
        "  print(\"Здрасте\")\n",
        "\n",
        "if text == \"Пока\":\n",
        "  print(\"Ну и до свидания\")\n",
        "\n",
        "\n",
        "\n",
        "# Обработать случаи неточного совпадения\n",
        "# Две фразы? Сделать словарь для бота\n",
        "# Изучить Питон"
      ],
      "metadata": {
        "colab": {
          "base_uri": "https://localhost:8080/"
        },
        "id": "Rjk-9FJcIKTP",
        "outputId": "92fd4c58-c7f4-4fab-ea96-d66458defaf0"
      },
      "execution_count": null,
      "outputs": [
        {
          "output_type": "stream",
          "name": "stdout",
          "text": [
            "Привет\n",
            "Здрасте\n"
          ]
        }
      ]
    },
    {
      "cell_type": "code",
      "source": [
        "import re  # Regular Expressions\n",
        "import nltk # Natural Language Toolkit\n",
        "\n",
        "# На вход: два текста, на выход: boolean(True, False) \n",
        "# Функция isMatch вернет True, если тексты совпадают или False иначе\n",
        "def isMatch(text1, text2):\n",
        "  text1 = text1.lower()  # Приводим к нижнему регистру (\"ПрИвет\" => \"привет\")\n",
        "  text2 = text2.lower()\n",
        "\n",
        "  # Удаление знаков препинания\n",
        "  # = Удалить все кроме букв и пробелов\n",
        "  pattern = r'[^\\w\\s]'\n",
        "  text1 = re.sub(pattern, \"\", text1) # Делать замену символов в строке\n",
        "  text2 = re.sub(pattern, \"\", text2)\n",
        "\n",
        "  # Проверить что одна фраза является частью другой\n",
        "\n",
        "  # Text1 содержит text2\n",
        "  if text1.find(text2) != -1:\n",
        "    return True\n",
        "  \n",
        "  # Text2 содержит text1\n",
        "  if text2.find(text1) != -1:\n",
        "    return True\n",
        "\n",
        "  # Расстояние Левенштейна (edit distance = расстояние редактирования)\n",
        "  distance = nltk.edit_distance(text1, text2)  # Кол-во символов 0...Inf\n",
        "  length = (len(text1) + len(text2))/2  # Средняя длина двух текстов\n",
        "  score = distance / length  # 0...1\n",
        "\n",
        "  return score < 0.4"
      ],
      "metadata": {
        "id": "HYl68Q0WJRwN"
      },
      "execution_count": null,
      "outputs": []
    },
    {
      "cell_type": "code",
      "source": [
        "# Сколько символов нужно отредактировать \"мама\" = (1) => \"мамы\"\n",
        "nltk.edit_distance(\"Привет братан\", \"Превед бротан\")\n",
        "# 0, 1, 2, 3...\n",
        "# 0 ... 0.3 ... 0.5 ... 1"
      ],
      "metadata": {
        "colab": {
          "base_uri": "https://localhost:8080/"
        },
        "id": "TFxh0iTxXrM9",
        "outputId": "c9f16919-1c4d-4119-f08e-54d790d13d4f"
      },
      "execution_count": null,
      "outputs": [
        {
          "output_type": "execute_result",
          "data": {
            "text/plain": [
              "3"
            ]
          },
          "metadata": {},
          "execution_count": 24
        }
      ]
    },
    {
      "cell_type": "code",
      "source": [
        "import random\n",
        "\n",
        "# Намерения = Intents\n",
        "# Поздароваться, спросить как дела, спросить имя или чем занимаешься\n",
        "# Заказать пиццу, отменить заказ, добавить больше сыра\n",
        "\n",
        "# Конфигурация бота\n",
        "BOT_CONFIG = {\n",
        "    # Все намерения которые поддерживает наш бот\n",
        "    \"intents\": {\n",
        "        \"hello\": {\n",
        "            \"examples\" : [\"Привет\", \"Здарова\", \"Йо\", \"Приветос\", \"Хеллоу\"],\n",
        "            \"responses\": [\"Здравстсвтсвтвтвуй человек\", \"И тебе не хворать\", \"Здоровее видали\"],\n",
        "        },\n",
        "        \"how_are_you\": {\n",
        "            \"examples\" : [\"Как дела\", \"Чо каво\", \"Как поживаешь\"],\n",
        "            \"responses\": [\"Маюсь Фигней\", \"Веду интенсивы\", \"Учу Пайтон\"],\n",
        "        }\n",
        "    },\n",
        "    # Фразы когда бот не может ответить\n",
        "    \"failure_phrases\": [\"Даже не знаю что сказать\", \"Поставлен в тупик\", \"Перефразируйте, я всего лишь бот\"],\n",
        "}\n",
        "\n",
        "def printAnswer(text, examples, responses):\n",
        "  for example in examples:  # Для каждого элемента списка examples\n",
        "    if isMatch(text, example):  # Если пример совпадает с текстом пользователя\n",
        "      print(random.choice(responses))  # Выводим на экран случайный элемент списка responses\n",
        "\n",
        "text = input()\n",
        "\n",
        "# Для каждого намерения, пытаемся напечатать ответ\n",
        "for intent in BOT_CONFIG[\"intents\"].values():\n",
        "    printAnswer(text, intent[\"examples\"], intent[\"responses\"])\n",
        "\n"
      ],
      "metadata": {
        "colab": {
          "base_uri": "https://localhost:8080/"
        },
        "id": "vhoZdXhTL8Yk",
        "outputId": "3ed40939-db0e-4914-a663-14034a634cb7"
      },
      "execution_count": null,
      "outputs": [
        {
          "output_type": "stream",
          "name": "stdout",
          "text": [
            "Приветик дорогой друг, как поживаешь вообще как дела?\n",
            "И тебе не хворать\n",
            "Веду интенсивы\n",
            "Учу Пайтон\n"
          ]
        }
      ]
    },
    {
      "cell_type": "code",
      "source": [
        ""
      ],
      "metadata": {
        "id": "dn5mg1AWa22A"
      },
      "execution_count": null,
      "outputs": []
    }
  ]
}